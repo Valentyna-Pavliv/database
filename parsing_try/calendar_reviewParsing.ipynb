{
 "cells": [
  {
   "cell_type": "code",
   "execution_count": 1,
   "metadata": {},
   "outputs": [],
   "source": [
    "import pandas as pd"
   ]
  },
  {
   "cell_type": "code",
   "execution_count": 24,
   "metadata": {},
   "outputs": [
    {
     "name": "stdout",
     "output_type": "stream",
     "text": [
      "listing_id null:  0 \n",
      "date null:  0\n"
     ]
    }
   ],
   "source": [
    "calendar_csv= pd.read_csv('madrid_calendar.csv')\n",
    "nbidnull = calendar_csv['listing_id'].isnull().sum()\n",
    "nbdatenull = calendar_csv['date'].isnull().sum()\n",
    "\n",
    "print(\"listing_id null: \", nbidnull, \"\\ndate null: \", nbdatenull) "
   ]
  },
  {
   "cell_type": "code",
   "execution_count": 21,
   "metadata": {},
   "outputs": [
    {
     "name": "stdout",
     "output_type": "stream",
     "text": [
      "listing_id null:  0 \n",
      "id null:  0\n"
     ]
    }
   ],
   "source": [
    "review_csv = pd.read_csv('barcelona_reviews.csv')\n",
    "nbidListnull = review_csv['listing_id'].isnull().sum()\n",
    "nbidnull = review_csv['id'].isnull().sum()\n",
    "\n",
    "print(\"listing_id null: \", nbidListnull, \"\\nid null: \", nbidnull) "
   ]
  },
  {
   "cell_type": "code",
   "execution_count": null,
   "metadata": {},
   "outputs": [],
   "source": [
    "#remplace csv delimiter by |\n",
    "#count | (must be equal = )\n",
    "#put enter in right places\n",
    "#remplace csv delimiter back by ''"
   ]
  }
 ],
 "metadata": {
  "kernelspec": {
   "display_name": "Python 3",
   "language": "python",
   "name": "python3"
  },
  "language_info": {
   "codemirror_mode": {
    "name": "ipython",
    "version": 3
   },
   "file_extension": ".py",
   "mimetype": "text/x-python",
   "name": "python",
   "nbconvert_exporter": "python",
   "pygments_lexer": "ipython3",
   "version": "3.7.1"
  }
 },
 "nbformat": 4,
 "nbformat_minor": 2
}
